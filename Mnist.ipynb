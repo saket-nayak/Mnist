{
 "cells": [
  {
   "cell_type": "code",
   "execution_count": 6,
   "metadata": {},
   "outputs": [
    {
     "name": "stderr",
     "output_type": "stream",
     "text": [
      "Using TensorFlow backend.\n"
     ]
    }
   ],
   "source": [
    "import numpy as np\n",
    "import keras\n",
    "import matplotlib.pyplot as plt\n",
    "from keras.datasets import mnist\n",
    "from keras.models import Sequential\n",
    "from keras.layers import Dense, Dropout\n",
    "from keras.optimizers import RMSprop\n",
    "from keras.utils import to_categorical"
   ]
  },
  {
   "cell_type": "code",
   "execution_count": 7,
   "metadata": {},
   "outputs": [],
   "source": [
    "batch_size = 128\n",
    "num_classes = 10\n",
    "epochs = 20\n",
    "\n",
    "(x_train, y_train), (x_test, y_test) = mnist.load_data()"
   ]
  },
  {
   "cell_type": "markdown",
   "metadata": {},
   "source": [
    "# EDA"
   ]
  },
  {
   "cell_type": "code",
   "execution_count": 8,
   "metadata": {},
   "outputs": [
    {
     "name": "stdout",
     "output_type": "stream",
     "text": [
      "Training data shape :  (60000, 28, 28) (60000,)\n",
      "Testing data shape :  (10000, 28, 28) (10000,)\n",
      "-------------------------------------------------------\n",
      "Total number of outputs: 10\n",
      "Output Classes         : [0 1 2 3 4 5 6 7 8 9]\n"
     ]
    }
   ],
   "source": [
    "print('Training data shape : ',x_train.shape, y_train.shape)\n",
    "print('Testing data shape : ',x_test.shape, y_test.shape)\n",
    "print('-'*55)\n",
    "\n",
    "#find the unique number fromm the train labels\n",
    "classes = np.unique(y_train)\n",
    "nClasses = len(classes)\n",
    "print('Total number of outputs:' , nClasses)\n",
    "print('Output Classes         :' , classes)"
   ]
  },
  {
   "cell_type": "code",
   "execution_count": 9,
   "metadata": {},
   "outputs": [
    {
     "data": {
      "text/plain": [
       "<function matplotlib.pyplot.show(*args, **kw)>"
      ]
     },
     "execution_count": 9,
     "metadata": {},
     "output_type": "execute_result"
    },
    {
     "data": {
      "image/png": "[encoded data removed]",
      "text/plain": [
       "<Figure size 720x360 with 2 Axes>"
      ]
     },
     "metadata": {
      "needs_background": "light"
     },
     "output_type": "display_data"
    }
   ],
   "source": [
    "plt.figure(figsize=[10,5])\n",
    "                   \n",
    "#Display the first image in training data\n",
    "plt.subplot(121)\n",
    "plt.imshow(x_train[1,:,:], cmap='gray')\n",
    "plt.title(\"Ground Truth :   ()\" .format(y_train[0]))\n",
    "\n",
    "# Display the first image in testing data\n",
    "plt.subplot(122)\n",
    "plt.imshow(x_test[6,:,:], cmap='gray')\n",
    "plt.title(\"Ground Truth :   ()\" .format(y_test[0]))\n",
    "plt.show"
   ]
  },
  {
   "cell_type": "code",
   "execution_count": 10,
   "metadata": {},
   "outputs": [],
   "source": [
    "\n",
    "# Change from matrix to array of dimension 28x28 to array of dimention 784\n",
    "x_train = x_train.reshape(60000, 784)\n",
    "x_test = x_test.reshape(10000, 784)"
   ]
  },
  {
   "cell_type": "code",
   "execution_count": 11,
   "metadata": {},
   "outputs": [
    {
     "name": "stdout",
     "output_type": "stream",
     "text": [
      "60000 train samples\n",
      "10000 test samples\n"
     ]
    }
   ],
   "source": [
    "# Change to float datatype\n",
    "x_train = x_train.astype('float32')\n",
    "x_test = x_test.astype('float32')\n",
    "\n",
    "# Scale the data to lie between 0 to 1\n",
    "x_train /= 255\n",
    "x_test /= 255\n",
    "print(x_train.shape[0], 'train samples')\n",
    "print(x_test.shape[0], 'test samples')"
   ]
  },
  {
   "cell_type": "code",
   "execution_count": 12,
   "metadata": {},
   "outputs": [
    {
     "name": "stdout",
     "output_type": "stream",
     "text": [
      "Original label 0 :  5\n",
      "After conversion to categorical ( one-hot ) :  [0. 0. 0. 0. 0. 1. 0. 0. 0. 0.]\n"
     ]
    }
   ],
   "source": [
    "print('Original label 0 : ', y_train[0])\n",
    "\n",
    "# convert class vectors to binary class matrices\n",
    "y_train = keras.utils.to_categorical(y_train, num_classes)\n",
    "y_test = keras.utils.to_categorical(y_test, num_classes)\n",
    "\n",
    "# Display the change for category label using one-hot encoding\n",
    "print('After conversion to categorical ( one-hot ) : ', y_train[0])"
   ]
  },
  {
   "cell_type": "code",
   "execution_count": 13,
   "metadata": {},
   "outputs": [
    {
     "name": "stdout",
     "output_type": "stream",
     "text": [
      "WARNING:tensorflow:From C:\\Users\\Saket_Nayak\\Anaconda3\\envs\\as\\lib\\site-packages\\tensorflow\\python\\framework\\op_def_library.py:263: colocate_with (from tensorflow.python.framework.ops) is deprecated and will be removed in a future version.\n",
      "Instructions for updating:\n",
      "Colocations handled automatically by placer.\n",
      "WARNING:tensorflow:From C:\\Users\\Saket_Nayak\\Anaconda3\\envs\\as\\lib\\site-packages\\keras\\backend\\tensorflow_backend.py:3445: calling dropout (from tensorflow.python.ops.nn_ops) with keep_prob is deprecated and will be removed in a future version.\n",
      "Instructions for updating:\n",
      "Please use `rate` instead of `keep_prob`. Rate should be set to `rate = 1 - keep_prob`.\n",
      "_________________________________________________________________\n",
      "Layer (type)                 Output Shape              Param #   \n",
      "=================================================================\n",
      "dense_1 (Dense)              (None, 512)               401920    \n",
      "_________________________________________________________________\n",
      "dropout_1 (Dropout)          (None, 512)               0         \n",
      "_________________________________________________________________\n",
      "dense_2 (Dense)              (None, 512)               262656    \n",
      "_________________________________________________________________\n",
      "dropout_2 (Dropout)          (None, 512)               0         \n",
      "_________________________________________________________________\n",
      "dense_3 (Dense)              (None, 10)                5130      \n",
      "=================================================================\n",
      "Total params: 669,706\n",
      "Trainable params: 669,706\n",
      "Non-trainable params: 0\n",
      "_________________________________________________________________\n"
     ]
    }
   ],
   "source": [
    "model = Sequential()\n",
    "model.add(Dense(512, activation='relu', input_shape=(784,)))\n",
    "model.add(Dropout(0.2))\n",
    "model.add(Dense(512, activation='relu'))\n",
    "model.add(Dropout(0.2))\n",
    "model.add(Dense(num_classes, activation='softmax'))\n",
    "\n",
    "model.summary()"
   ]
  },
  {
   "cell_type": "code",
   "execution_count": 14,
   "metadata": {},
   "outputs": [],
   "source": [
    "model.compile(loss='categorical_crossentropy',optimizer='rmsprop',metrics=['accuracy'])"
   ]
  },
  {
   "cell_type": "code",
   "execution_count": 15,
   "metadata": {},
   "outputs": [
    {
     "name": "stdout",
     "output_type": "stream",
     "text": [
      "WARNING:tensorflow:From C:\\Users\\Saket_Nayak\\Anaconda3\\envs\\as\\lib\\site-packages\\tensorflow\\python\\ops\\math_ops.py:3066: to_int32 (from tensorflow.python.ops.math_ops) is deprecated and will be removed in a future version.\n",
      "Instructions for updating:\n",
      "Use tf.cast instead.\n",
      "Train on 60000 samples, validate on 10000 samples\n",
      "Epoch 1/20\n",
      "60000/60000 [==============================] - 16s 264us/step - loss: 0.2571 - acc: 0.9210 - val_loss: 0.1349 - val_acc: 0.9595\n",
      "Epoch 2/20\n",
      "60000/60000 [==============================] - 12s 205us/step - loss: 0.1070 - acc: 0.9680 - val_loss: 0.0880 - val_acc: 0.9731\n",
      "Epoch 3/20\n",
      "60000/60000 [==============================] - 12s 205us/step - loss: 0.0808 - acc: 0.9749 - val_loss: 0.0937 - val_acc: 0.9723\n",
      "Epoch 4/20\n",
      "60000/60000 [==============================] - 12s 207us/step - loss: 0.0656 - acc: 0.9803 - val_loss: 0.0748 - val_acc: 0.9794\n",
      "Epoch 5/20\n",
      "60000/60000 [==============================] - 12s 206us/step - loss: 0.0562 - acc: 0.9837 - val_loss: 0.0913 - val_acc: 0.9768\n",
      "Epoch 6/20\n",
      "60000/60000 [==============================] - 12s 207us/step - loss: 0.0505 - acc: 0.9846 - val_loss: 0.0845 - val_acc: 0.9798\n",
      "Epoch 7/20\n",
      "60000/60000 [==============================] - 12s 207us/step - loss: 0.0469 - acc: 0.9858 - val_loss: 0.0694 - val_acc: 0.9834\n",
      "Epoch 8/20\n",
      "60000/60000 [==============================] - 12s 207us/step - loss: 0.0420 - acc: 0.9878 - val_loss: 0.0823 - val_acc: 0.9821\n",
      "Epoch 9/20\n",
      "60000/60000 [==============================] - 13s 209us/step - loss: 0.0404 - acc: 0.9886 - val_loss: 0.0977 - val_acc: 0.9804\n",
      "Epoch 10/20\n",
      "60000/60000 [==============================] - 12s 208us/step - loss: 0.0385 - acc: 0.9895 - val_loss: 0.0885 - val_acc: 0.9829\n",
      "Epoch 11/20\n",
      "60000/60000 [==============================] - 13s 209us/step - loss: 0.0354 - acc: 0.9903 - val_loss: 0.0911 - val_acc: 0.9813\n",
      "Epoch 12/20\n",
      "60000/60000 [==============================] - 12s 207us/step - loss: 0.0335 - acc: 0.9910 - val_loss: 0.0908 - val_acc: 0.9804\n",
      "Epoch 13/20\n",
      "60000/60000 [==============================] - 13s 210us/step - loss: 0.0309 - acc: 0.9915 - val_loss: 0.0965 - val_acc: 0.9821\n",
      "Epoch 14/20\n",
      "60000/60000 [==============================] - 12s 208us/step - loss: 0.0327 - acc: 0.9919 - val_loss: 0.1101 - val_acc: 0.9810\n",
      "Epoch 15/20\n",
      "60000/60000 [==============================] - 13s 209us/step - loss: 0.0324 - acc: 0.9921 - val_loss: 0.0861 - val_acc: 0.9855\n",
      "Epoch 16/20\n",
      "60000/60000 [==============================] - 12s 208us/step - loss: 0.0294 - acc: 0.9926 - val_loss: 0.0929 - val_acc: 0.9841\n",
      "Epoch 17/20\n",
      "60000/60000 [==============================] - 13s 211us/step - loss: 0.0283 - acc: 0.9931 - val_loss: 0.1033 - val_acc: 0.9824\n",
      "Epoch 18/20\n",
      "60000/60000 [==============================] - 13s 219us/step - loss: 0.0279 - acc: 0.9931 - val_loss: 0.1202 - val_acc: 0.9813\n",
      "Epoch 19/20\n",
      "60000/60000 [==============================] - 13s 212us/step - loss: 0.0272 - acc: 0.9935 - val_loss: 0.0921 - val_acc: 0.9842\n",
      "Epoch 20/20\n",
      "60000/60000 [==============================] - 13s 213us/step - loss: 0.0256 - acc: 0.9935 - val_loss: 0.1118 - val_acc: 0.9841\n"
     ]
    }
   ],
   "source": [
    "history = model.fit(x_train, y_train,batch_size=batch_size,epochs=epochs,verbose=1,validation_data=(x_test, y_test))"
   ]
  },
  {
   "cell_type": "code",
   "execution_count": 16,
   "metadata": {},
   "outputs": [
    {
     "name": "stdout",
     "output_type": "stream",
     "text": [
      "Test loss: 0.11181322426322304\n",
      "Test accuracy: 0.9841\n"
     ]
    }
   ],
   "source": [
    "score = model.evaluate(x_test, y_test, verbose=0)\n",
    "print('Test loss:', score[0])\n",
    "print('Test accuracy:', score[1])"
   ]
  },
  {
   "cell_type": "code",
   "execution_count": 17,
   "metadata": {},
   "outputs": [
    {
     "data": {
      "text/plain": [
       "Text(0.5, 1.0, 'Accuracy Curves')"
      ]
     },
     "execution_count": 17,
     "metadata": {},
     "output_type": "execute_result"
    },
    {
     "data": {
      "image/png": "[encoded data removed]",
      "text/plain": [
       "<Figure size 504x216 with 1 Axes>"
      ]
     },
     "metadata": {
      "needs_background": "light"
     },
     "output_type": "display_data"
    },
    {
     "data": {
      "image/png": "[encoded data removed]",
      "text/plain": [
       "<Figure size 504x216 with 1 Axes>"
      ]
     },
     "metadata": {
      "needs_background": "light"
     },
     "output_type": "display_data"
    }
   ],
   "source": [
    "#Plot the Loss Curves\n",
    "plt.figure(figsize=[7,3])\n",
    "plt.plot(history.history['loss'],'r',linewidth=2.0)\n",
    "plt.plot(history.history['val_loss'],'b',linewidth=2.0)\n",
    "plt.legend(['Training loss', 'Validation Loss'],fontsize=10)\n",
    "plt.xlabel('Epochs ',fontsize=15)\n",
    "plt.ylabel('Loss',fontsize=15)\n",
    "plt.title('Loss Curves',fontsize=15)\n",
    "\n",
    "#Plot the Accuracy Curves\n",
    "plt.figure(figsize=[7,3])\n",
    "plt.plot(history.history['acc'],'r',linewidth=2.0)\n",
    "plt.plot(history.history['val_acc'],'b',linewidth=2.0)\n",
    "plt.legend(['Training Accuracy', 'Validation Accuracy'],fontsize=10)\n",
    "plt.xlabel('Epochs ',fontsize=15)\n",
    "plt.ylabel('Accuracy',fontsize=15)\n",
    "plt.title('Accuracy Curves',fontsize=15)"
   ]
  },
  {
   "cell_type": "code",
   "execution_count": 18,
   "metadata": {},
   "outputs": [
    {
     "name": "stdout",
     "output_type": "stream",
     "text": [
      "_________________________________________________________________\n",
      "Layer (type)                 Output Shape              Param #   \n",
      "=================================================================\n",
      "dense_4 (Dense)              (None, 512)               401920    \n",
      "_________________________________________________________________\n",
      "dropout_3 (Dropout)          (None, 512)               0         \n",
      "_________________________________________________________________\n",
      "dense_5 (Dense)              (None, 512)               262656    \n",
      "_________________________________________________________________\n",
      "dropout_4 (Dropout)          (None, 512)               0         \n",
      "_________________________________________________________________\n",
      "dense_6 (Dense)              (None, 10)                5130      \n",
      "=================================================================\n",
      "Total params: 669,706\n",
      "Trainable params: 669,706\n",
      "Non-trainable params: 0\n",
      "_________________________________________________________________\n"
     ]
    }
   ],
   "source": [
    "from keras.layers import Dropout\n",
    " \n",
    "model_reg = Sequential()\n",
    "model_reg.add(Dense(512, activation='relu', input_shape=(784,)))\n",
    "model_reg.add(Dropout(0.5))\n",
    "model_reg.add(Dense(512, activation='relu'))\n",
    "model_reg.add(Dropout(0.5))\n",
    "model_reg.add(Dense(nClasses, activation='softmax'))\n",
    "\n",
    "model_reg.summary()"
   ]
  },
  {
   "cell_type": "code",
   "execution_count": 19,
   "metadata": {},
   "outputs": [
    {
     "name": "stdout",
     "output_type": "stream",
     "text": [
      "Train on 60000 samples, validate on 10000 samples\n",
      "Epoch 1/20\n",
      "60000/60000 [==============================] - 10s 174us/step - loss: 0.3867 - acc: 0.8798 - val_loss: 0.1794 - val_acc: 0.9427\n",
      "Epoch 2/20\n",
      "60000/60000 [==============================] - 9s 149us/step - loss: 0.1794 - acc: 0.9455 - val_loss: 0.1307 - val_acc: 0.9598\n",
      "Epoch 3/20\n",
      "60000/60000 [==============================] - 9s 145us/step - loss: 0.1306 - acc: 0.9602 - val_loss: 0.0965 - val_acc: 0.9711\n",
      "Epoch 4/20\n",
      "60000/60000 [==============================] - 9s 149us/step - loss: 0.1153 - acc: 0.9658 - val_loss: 0.1058 - val_acc: 0.9686\n",
      "Epoch 5/20\n",
      "60000/60000 [==============================] - 9s 143us/step - loss: 0.1000 - acc: 0.9700 - val_loss: 0.0768 - val_acc: 0.9798\n",
      "Epoch 6/20\n",
      "60000/60000 [==============================] - 9s 154us/step - loss: 0.0919 - acc: 0.9727 - val_loss: 0.0821 - val_acc: 0.9748\n",
      "Epoch 7/20\n",
      "60000/60000 [==============================] - 9s 149us/step - loss: 0.0830 - acc: 0.9754 - val_loss: 0.0727 - val_acc: 0.9804\n",
      "Epoch 8/20\n",
      "60000/60000 [==============================] - 9s 153us/step - loss: 0.0805 - acc: 0.9759 - val_loss: 0.0716 - val_acc: 0.9806\n",
      "Epoch 9/20\n",
      "60000/60000 [==============================] - 9s 148us/step - loss: 0.0755 - acc: 0.9780 - val_loss: 0.0746 - val_acc: 0.9803\n",
      "Epoch 10/20\n",
      "60000/60000 [==============================] - 9s 149us/step - loss: 0.0702 - acc: 0.9791 - val_loss: 0.0757 - val_acc: 0.9810\n",
      "Epoch 11/20\n",
      "60000/60000 [==============================] - 9s 154us/step - loss: 0.0665 - acc: 0.9812 - val_loss: 0.0701 - val_acc: 0.9824\n",
      "Epoch 12/20\n",
      "60000/60000 [==============================] - 8s 134us/step - loss: 0.0657 - acc: 0.9807 - val_loss: 0.0764 - val_acc: 0.9826\n",
      "Epoch 13/20\n",
      "60000/60000 [==============================] - 8s 136us/step - loss: 0.0610 - acc: 0.9815 - val_loss: 0.0736 - val_acc: 0.9818\n",
      "Epoch 14/20\n",
      "60000/60000 [==============================] - 8s 137us/step - loss: 0.0594 - acc: 0.9827 - val_loss: 0.0805 - val_acc: 0.9798\n",
      "Epoch 15/20\n",
      "60000/60000 [==============================] - 8s 136us/step - loss: 0.0582 - acc: 0.9837 - val_loss: 0.0743 - val_acc: 0.9842\n",
      "Epoch 16/20\n",
      "60000/60000 [==============================] - 9s 155us/step - loss: 0.0576 - acc: 0.9829 - val_loss: 0.0753 - val_acc: 0.9833\n",
      "Epoch 17/20\n",
      "60000/60000 [==============================] - 9s 148us/step - loss: 0.0558 - acc: 0.9840 - val_loss: 0.0674 - val_acc: 0.9844\n",
      "Epoch 18/20\n",
      "60000/60000 [==============================] - 9s 147us/step - loss: 0.0527 - acc: 0.9850 - val_loss: 0.0762 - val_acc: 0.9827\n",
      "Epoch 19/20\n",
      "60000/60000 [==============================] - 9s 148us/step - loss: 0.0539 - acc: 0.9844 - val_loss: 0.0712 - val_acc: 0.9834\n",
      "Epoch 20/20\n",
      "60000/60000 [==============================] - 9s 147us/step - loss: 0.0481 - acc: 0.9862 - val_loss: 0.0717 - val_acc: 0.9857\n"
     ]
    }
   ],
   "source": [
    "model_reg.compile(optimizer='rmsprop', loss='categorical_crossentropy', metrics=['accuracy'])\n",
    "history_reg = model_reg.fit(x_train, y_train, \n",
    "                            batch_size=256, epochs=20, verbose=1, \n",
    "                            validation_data=(x_test, y_test))"
   ]
  },
  {
   "cell_type": "code",
   "execution_count": 20,
   "metadata": {},
   "outputs": [
    {
     "data": {
      "text/plain": [
       "Text(0.5, 1.0, 'Accuracy Curves')"
      ]
     },
     "execution_count": 20,
     "metadata": {},
     "output_type": "execute_result"
    },
    {
     "data": {
      "image/png": "[encoded data removed]",
      "text/plain": [
       "<Figure size 504x216 with 1 Axes>"
      ]
     },
     "metadata": {
      "needs_background": "light"
     },
     "output_type": "display_data"
    },
    {
     "data": {
      "image/png": "[encoded data removed]",
      "text/plain": [
       "<Figure size 504x216 with 1 Axes>"
      ]
     },
     "metadata": {
      "needs_background": "light"
     },
     "output_type": "display_data"
    }
   ],
   "source": [
    "#Plot the Loss Curves\n",
    "plt.figure(figsize=[7,3])\n",
    "plt.plot(history_reg.history['loss'],'r',linewidth=2.0)\n",
    "plt.plot(history_reg.history['val_loss'],'b',linewidth=2.0)\n",
    "plt.legend(['Training loss', 'Validation Loss'],fontsize=10)\n",
    "plt.xlabel('Epochs ',fontsize=15)\n",
    "plt.ylabel('Loss',fontsize=15)\n",
    "plt.title('Loss Curves',fontsize=15)\n",
    " \n",
    "#Plot the Accuracy Curves\n",
    "plt.figure(figsize=[7,3])\n",
    "plt.plot(history_reg.history['acc'],'r',linewidth=2.0)\n",
    "plt.plot(history_reg.history['val_acc'],'b',linewidth=2.0)\n",
    "plt.legend(['Training Accuracy', 'Validation Accuracy'],fontsize=10)\n",
    "plt.xlabel('Epochs ',fontsize=15)\n",
    "plt.ylabel('Accuracy',fontsize=15)\n",
    "plt.title('Accuracy Curves',fontsize=15)"
   ]
  },
  {
   "cell_type": "code",
   "execution_count": 21,
   "metadata": {},
   "outputs": [
    {
     "data": {
      "text/plain": [
       "array([7], dtype=int64)"
      ]
     },
     "execution_count": 21,
     "metadata": {},
     "output_type": "execute_result"
    }
   ],
   "source": [
    "# Predict the most likely class\n",
    "model_reg.predict_classes(x_test[[0],:])"
   ]
  },
  {
   "cell_type": "code",
   "execution_count": 22,
   "metadata": {},
   "outputs": [
    {
     "data": {
      "text/plain": [
       "array([[1.4264934e-18, 5.6824068e-12, 1.6027706e-10, 3.2110668e-11,\n",
       "        9.6351462e-18, 9.7340959e-15, 3.1028749e-28, 1.0000000e+00,\n",
       "        1.0189922e-15, 7.0725072e-11]], dtype=float32)"
      ]
     },
     "execution_count": 22,
     "metadata": {},
     "output_type": "execute_result"
    }
   ],
   "source": [
    "# Predict the probabilities for each class \n",
    "model_reg.predict(x_test[[0],:])"
   ]
  },
  {
   "cell_type": "code",
   "execution_count": 23,
   "metadata": {},
   "outputs": [],
   "source": [
    "from keras.models import load_model\n",
    "\n",
    "model_reg.save('my_model.h5')  # creates a HDF5 file 'my_model.h5'\n",
    "del model  # deletes the existing model\n",
    "\n",
    "# returns a compiled model\n",
    "# identical to the previous one\n",
    "model_1 = load_model('my_model.h5')"
   ]
  },
  {
   "cell_type": "code",
   "execution_count": null,
   "metadata": {},
   "outputs": [],
   "source": []
  }
 ],
 "metadata": {
  "kernelspec": {
   "display_name": "Python [conda env:as] *",
   "language": "python",
   "name": "conda-env-as-py"
  }
 },
 "nbformat": 4,
 "nbformat_minor": 2
}
